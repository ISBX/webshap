{
 "cells": [
  {
   "attachments": {},
   "cell_type": "markdown",
   "metadata": {},
   "source": [
    "## XGBoost on Lending Club Dataset\n",
    "\n",
    "In this dataset, we train an XGBoost binary classifier on the Lending Club dataset."
   ]
  },
  {
   "cell_type": "code",
   "execution_count": 40,
   "metadata": {},
   "outputs": [
    {
     "name": "stdout",
     "output_type": "stream",
     "text": [
      "1.11.2\n"
     ]
    }
   ],
   "source": [
    "import xgboost\n",
    "import shap\n",
    "import numpy as np\n",
    "import pandas as pd\n",
    "import onnxruntime as rt\n",
    "import onnxmltools\n",
    "\n",
    "from onnxmltools import convert_xgboost, convert_sklearn\n",
    "from onnxmltools.convert.common.data_types import FloatTensorType\n",
    "from sklearn.model_selection import train_test_split\n",
    "from sklearn.metrics import accuracy_score\n",
    "from matplotlib import pyplot as plt\n",
    "from json import load, dump\n",
    "\n",
    "SEED=2022\n",
    "\n",
    "print(onnxmltools.__version__)"
   ]
  },
  {
   "cell_type": "code",
   "execution_count": 2,
   "metadata": {},
   "outputs": [],
   "source": [
    "# Read the dataset\n",
    "data = pd.read_csv('../data/lending-club.csv')\n",
    "data['earliest_cr_line'] = 2023 - data['earliest_cr_line']\n",
    "\n",
    "y_all = data['loan_approval']\n",
    "x_all = data.iloc[:, 0: data.shape[1] - 1]\n",
    "\n",
    "# One-hot encode the categorical columns\n",
    "x_all = pd.get_dummies(x_all, prefix_sep='-')\n",
    "\n",
    "# Train test split (6:4)\n",
    "x_train, x_test, y_train, y_test = train_test_split(\n",
    "    x_all, y_all, test_size=0.4, random_state=SEED\n",
    ")\n",
    "\n",
    "# Convert data frames to numpy arrays\n",
    "feature_names = x_all.columns\n",
    "x_train_matrix = x_train.to_numpy()\n",
    "x_test_matrix = x_test.to_numpy()\n",
    "y_train_array = y_train.to_numpy()\n",
    "y_test_array = y_test.to_numpy()\n",
    "\n",
    "# Create lightgbm dataset\n",
    "d_train = xgboost.DMatrix(x_train, label=y_train)\n",
    "d_test = xgboost.DMatrix(x_test, label=y_test)\n"
   ]
  },
  {
   "cell_type": "code",
   "execution_count": 3,
   "metadata": {},
   "outputs": [
    {
     "name": "stdout",
     "output_type": "stream",
     "text": [
      "[0]\ttest-logloss:0.68927\n",
      "[100]\ttest-logloss:0.50881\n",
      "[200]\ttest-logloss:0.47502\n",
      "[300]\ttest-logloss:0.47003\n",
      "[325]\ttest-logloss:0.47043\n"
     ]
    }
   ],
   "source": [
    "params = {\n",
    "    \"eta\": 0.01,\n",
    "    \"objective\": \"binary:logistic\",\n",
    "    # Randomly sample training data in each boosting iteration to avoid overfitting\n",
    "    \"subsample\": 0.5,\n",
    "    # Initial prediction: average of the training labels\n",
    "    \"eval_metric\": \"logloss\",\n",
    "}\n",
    "\n",
    "model = xgboost.train(\n",
    "    params,\n",
    "    d_train,\n",
    "    5000,\n",
    "    evals=[(d_test, \"test\")],\n",
    "    verbose_eval=100,\n",
    "    early_stopping_rounds=20,\n",
    ")"
   ]
  },
  {
   "cell_type": "code",
   "execution_count": 4,
   "metadata": {},
   "outputs": [
    {
     "name": "stdout",
     "output_type": "stream",
     "text": [
      "Train accuracy: 0.848, Test accuracy: 0.7955\n"
     ]
    }
   ],
   "source": [
    "y_pred = model.predict(d_train)\n",
    "y_pred_label = [1 if y >= 0.5 else 0 for y in y_pred]\n",
    "train_acc = accuracy_score(y_train, y_pred_label)\n",
    "\n",
    "y_pred = model.predict(d_test)\n",
    "y_pred_label = [1 if y >= 0.5 else 0 for y in y_pred]\n",
    "test_acc = accuracy_score(y_test, y_pred_label)\n",
    "\n",
    "print(f'Train accuracy: {train_acc:.4}, Test accuracy: {test_acc:.4}')"
   ]
  },
  {
   "cell_type": "markdown",
   "metadata": {},
   "source": [
    "### Export the Model as ONNX\n",
    "\n",
    "To use this model in Rust and the web, we export it as an ONNX model."
   ]
  },
  {
   "cell_type": "code",
   "execution_count": 5,
   "metadata": {},
   "outputs": [],
   "source": [
    "temp_model = model.copy()\n",
    "\n",
    "# Need to convert real feature names to f0, f1, f2... for ONNX\n",
    "feature_name_map = {}\n",
    "new_feature_names = []\n",
    "for i in range(len(temp_model.feature_names)):\n",
    "    feature_name_map[f'f{i}'] = temp_model.feature_names[i]\n",
    "    new_feature_names.append(f'f{i}')\n",
    "\n",
    "temp_model.feature_names = new_feature_names"
   ]
  },
  {
   "cell_type": "code",
   "execution_count": 6,
   "metadata": {},
   "outputs": [],
   "source": [
    "initial_types = [(\"float_input\", FloatTensorType([None, x_train.shape[1]]))]\n",
    "model_onnx = convert_xgboost(temp_model, initial_types=initial_types)"
   ]
  },
  {
   "cell_type": "code",
   "execution_count": 8,
   "metadata": {},
   "outputs": [],
   "source": [
    "# # Save the ONNX model\n",
    "# with open('./lending-club-xgboost.onnx', 'wb') as fp:\n",
    "#     fp.write(model_onnx.SerializeToString())"
   ]
  },
  {
   "cell_type": "markdown",
   "metadata": {},
   "source": [
    "### ONNX Model Inference\n",
    "\n",
    "Model inference using the saved ONNX model.\n"
   ]
  },
  {
   "cell_type": "code",
   "execution_count": 9,
   "metadata": {},
   "outputs": [],
   "source": [
    "session = rt.InferenceSession('./lending-club-xgboost.onnx')\n",
    "y_pred_onnx = session.run(None, {'float_input': x_test.astype(np.float32).to_numpy()})"
   ]
  },
  {
   "cell_type": "code",
   "execution_count": 10,
   "metadata": {},
   "outputs": [
    {
     "name": "stdout",
     "output_type": "stream",
     "text": [
      "ONNX Test accuracy: 0.796\n"
     ]
    }
   ],
   "source": [
    "test_acc = accuracy_score(y_test, y_pred_onnx[0])\n",
    "print(f'ONNX Test accuracy: {test_acc:.4}')"
   ]
  },
  {
   "cell_type": "code",
   "execution_count": 24,
   "metadata": {},
   "outputs": [],
   "source": [
    "# cur_x = np.array([[\n",
    "\n",
    "#   22,\n",
    "#   43.4,\n",
    "#   9.32,\n",
    "#   4.7542030368453085,\n",
    "#   8,\n",
    "#   24000,\n",
    "#   17,\n",
    "#   4.249296215544277,\n",
    "#   697,\n",
    "#   0,\n",
    "#   1,\n",
    "#   0,\n",
    "#   0,\n",
    "#   0,\n",
    "#   0,\n",
    "#   0,\n",
    "#   1,\n",
    "#   0,\n",
    "#   0,\n",
    "#   1,\n",
    "#   1,\n",
    "#   0,\n",
    "#   0,\n",
    "#   0,\n",
    "#   1,\n",
    "#   0,\n",
    "#   1,\n",
    "#   0,\n",
    "#   0,\n",
    "#   0,\n",
    "#   0\n",
    "\n",
    "# ]])\n",
    "\n",
    "# session = rt.InferenceSession('./lending-club-xgboost.onnx')\n",
    "# session.run(None, {'float_input': cur_x.astype(np.float32)})"
   ]
  },
  {
   "attachments": {},
   "cell_type": "markdown",
   "metadata": {},
   "source": [
    "### Export to JSON Data"
   ]
  },
  {
   "cell_type": "code",
   "execution_count": 11,
   "metadata": {},
   "outputs": [],
   "source": [
    "rng = np.random.RandomState(SEED)\n",
    "random_indexes = rng.choice(x_train_matrix.shape[0], 300)\n",
    "random_x_train = x_train_matrix[random_indexes].astype(float).round(4).tolist()\n",
    "random_y_train = y_train_array[random_indexes].astype(float).round(4).tolist()\n"
   ]
  },
  {
   "cell_type": "code",
   "execution_count": 31,
   "metadata": {},
   "outputs": [],
   "source": [
    "# For test data, we sample half positive and half negative\n",
    "pos_indexes = np.where(y_pred >= 0.5)[0]\n",
    "neg_indexes = np.where(y_pred < 0.5)[0]\n",
    "\n",
    "random_indexes_pos = pos_indexes[rng.choice(pos_indexes.shape[0], 150)]\n",
    "random_indexes_neg = neg_indexes[rng.choice(neg_indexes.shape[0], 150)]\n",
    "random_indexes = np.hstack([random_indexes_pos, random_indexes_neg])\n",
    "\n",
    "random_x_test = x_test_matrix[random_indexes].astype(float).round(4).tolist()\n",
    "random_y_test = y_test_array[random_indexes].astype(float).round(4).tolist()"
   ]
  },
  {
   "cell_type": "code",
   "execution_count": 42,
   "metadata": {},
   "outputs": [
    {
     "data": {
      "image/png": "[encoded data removed]",
      "text/plain": [
       "<Figure size 640x480 with 1 Axes>"
      ]
     },
     "metadata": {},
     "output_type": "display_data"
    }
   ],
   "source": [
    "cur_x_mat = xgboost.DMatrix(random_x_test, feature_names=feature_names)\n",
    "cur_pred = model.predict(cur_x_mat)\n",
    "plt.hist(cur_pred, bins=50)\n",
    "plt.show()"
   ]
  },
  {
   "cell_type": "code",
   "execution_count": 43,
   "metadata": {},
   "outputs": [],
   "source": [
    "# Users can provide a partial dictionary to add descriptions for some features/levels\n",
    "feature_info = {\n",
    "    \"loan_amnt\": [\"Loan Amount\", \"Amount of applied loan ($)\"],\n",
    "    \"term\": [\"Payment Period\", \"The period of time to pay off the loan (month)\"],\n",
    "    \"emp_length\": [\"Employment Length\", \"Length of your current employment (years)\"],\n",
    "    \"home_ownership\": [\"Home Ownership\", \"Current home ownership status\"],\n",
    "    \"annual_inc\": [\"Annual Income\", \"Annual income ($)\"],\n",
    "    \"verification_status\": [\"Verification Status\", \"Status of income verification\"],\n",
    "    \"purpose\": [\"Loan Purpose\", \"Purpose for the applied loan\"],\n",
    "    \"dti\": [\n",
    "        \"Debt to Income Ratio\",\n",
    "        \"Monthly debt payments divided by the gross monthly income (%)\",\n",
    "    ],\n",
    "    \"delinq_2yrs\": [\n",
    "        \"Number of Past Due\",\n",
    "        \"The number of times of 30+ days past due on a payment in the past 2 years\",\n",
    "    ],\n",
    "    \"earliest_cr_line\": [\"Credit History Length\", \"Years of credit history\"],\n",
    "    \"inq_last_6mths\": [\n",
    "        \"Number of Credit Inquiries\",\n",
    "        \"Number of credit inquiries in the last 6 months\",\n",
    "    ],\n",
    "    \"open_acc\": [\n",
    "        \"Number of Open Accounts\",\n",
    "        \"The number of open credit lines currently in the credit file\",\n",
    "    ],\n",
    "    \"pub_rec\": [\n",
    "        \"Number of Derogatory Records\",\n",
    "        \"Number of derogatory public records (e.g., crime records)\",\n",
    "    ],\n",
    "    \"revol_bal\": [\n",
    "        \"Revolving Balance\",\n",
    "        \"The unpaid balance amount, if the balance on revolving credit account is not paid in full ($)\",\n",
    "    ],\n",
    "    \"revol_util\": [\n",
    "        \"Credit Utilization\",\n",
    "        \"The amount of credit used relative to all available revolving credit (%)\",\n",
    "    ],\n",
    "    \"total_acc\": [\n",
    "        \"Number of Accounts\",\n",
    "        \"The total number of credit lines currently in the credit file\",\n",
    "    ],\n",
    "    \"application_type\": [\n",
    "        \"Application Type\",\n",
    "        \"Whether the loan is an individual application or a joint application with two co-borrowers\",\n",
    "    ],\n",
    "    \"mort_acc\": [\"Number of Mortgages\", \"Number of mortgage accounts\"],\n",
    "    \"pub_rec_bankruptcies\": [\n",
    "        \"Number of Bankruptcies\",\n",
    "        \"Number of public record bankruptcies\",\n",
    "    ],\n",
    "    \"fico_score\": [\"FICO Score\", \"Current FICO score (credit score)\"],\n",
    "}\n",
    "\n",
    "feature_level_info = {\n",
    "    \"term\": {\n",
    "        \"36 months\": [\"36 months\", \"\"],\n",
    "        \"60 months\": [\"60 months\", \"\"],\n",
    "    },\n",
    "    \"home_ownership\": {\n",
    "        \"MORTGAGE\": [\"Mortgage\", \"\"],\n",
    "        \"OTHER\": [\"Other\", \"\"],\n",
    "        \"OWN\": [\"Own\", \"\"],\n",
    "        \"RENT\": [\"Rent\", \"\"],\n",
    "    },\n",
    "    \"application_type\": {\n",
    "        \"Individual\": [\"Individual Application\", \"\"],\n",
    "        \"Joint App\": [\"Joint Applciation\", \"\"],\n",
    "    },\n",
    "    \"verification_status\": {\n",
    "        \"Not Verified\": [\"Not Verified\", \"\"],\n",
    "        \"Source Verified\": [\"Source Verified\", \"\"],\n",
    "        \"Verified\": [\"Verified\", \"\"],\n",
    "    },\n",
    "    \"pub_rec\": {\n",
    "        \"0\": [\"0 time\", \"\"],\n",
    "        \"1\": [\"1 time\", \"\"],\n",
    "        \"2\": [\"2 times\", \"\"],\n",
    "        \"2+\": [\"More than 2 times\", \"\"],\n",
    "    },\n",
    "    \"pub_rec_bankruptcies\": {\n",
    "        \"0\": [\"0 time\", \"\"],\n",
    "        \"1\": [\"1 time\", \"\"],\n",
    "        \"2\": [\"2 times\", \"\"],\n",
    "        \"2+\": [\"More than 2 times\", \"\"],\n",
    "        \"missing\": [\"Missing\", \"\"],\n",
    "    },\n",
    "}\n",
    "\n",
    "require_transform = [\"annual_inc\", \"revol_bal\"]\n",
    "require_integer = [\n",
    "    \"loan_amnt\",\n",
    "    \"annual_inc\",\n",
    "    \"revol_bal\" \"delinq_2yrs\",\n",
    "    \"earliest_cr_line\",\n",
    "    \"inq_last_6mths\",\n",
    "    \"open_acc\",\n",
    "    \"pub_rec\",\n",
    "    \"total_acc\",\n",
    "    \"mort_acc\",\n",
    "    \"pub_rec_bankruptcies\",\n",
    "    \"fico_score\",\n",
    "]\n"
   ]
  },
  {
   "cell_type": "code",
   "execution_count": 44,
   "metadata": {},
   "outputs": [],
   "source": [
    "feature_types = []\n",
    "for name in feature_names:\n",
    "    if '-' in name:\n",
    "        feature_types.append('cat')\n",
    "    else:\n",
    "        feature_types.append('cont')\n",
    "\n",
    "json_data = {\n",
    "    'xTrain': random_x_train,\n",
    "    'yTrain': random_y_train,\n",
    "    'xTest': random_x_test,\n",
    "    'yTest': random_y_test,\n",
    "    'featureNames': feature_names.tolist(),\n",
    "    'featureTypes': feature_types,\n",
    "    'featureInfo': feature_info,\n",
    "    'featureLevelInfo': feature_level_info,\n",
    "    'featureRequiresLog': require_transform,\n",
    "    'featureRequireInt': require_integer\n",
    "}\n"
   ]
  },
  {
   "cell_type": "code",
   "execution_count": 45,
   "metadata": {},
   "outputs": [],
   "source": [
    "dump(json_data, open('../demo/public/data/lending-club.json', 'w'))"
   ]
  },
  {
   "cell_type": "code",
   "execution_count": null,
   "metadata": {},
   "outputs": [],
   "source": []
  }
 ],
 "metadata": {
  "kernelspec": {
   "display_name": "gam",
   "language": "python",
   "name": "python3"
  },
  "language_info": {
   "codemirror_mode": {
    "name": "ipython",
    "version": 3
   },
   "file_extension": ".py",
   "mimetype": "text/x-python",
   "name": "python",
   "nbconvert_exporter": "python",
   "pygments_lexer": "ipython3",
   "version": "3.9.12"
  },
  "orig_nbformat": 4,
  "vscode": {
   "interpreter": {
    "hash": "b5626e0214fbab356492e241c64e374e895356c36c2df27bd9257fec2bfaf925"
   }
  }
 },
 "nbformat": 4,
 "nbformat_minor": 2
}
