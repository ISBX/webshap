{
 "cells": [
  {
   "attachments": {},
   "cell_type": "markdown",
   "metadata": {},
   "source": [
    "## XGBoost on Lending Club Dataset\n",
    "\n",
    "In this dataset, we train an XGBoost binary classifier on the Lending Club dataset."
   ]
  },
  {
   "cell_type": "code",
   "execution_count": 42,
   "metadata": {},
   "outputs": [
    {
     "name": "stdout",
     "output_type": "stream",
     "text": [
      "1.11.2\n"
     ]
    }
   ],
   "source": [
    "import xgboost\n",
    "import shap\n",
    "import numpy as np\n",
    "import pandas as pd\n",
    "import onnxruntime as rt\n",
    "import onnxmltools\n",
    "\n",
    "from onnxmltools import convert_xgboost, convert_sklearn\n",
    "from onnxmltools.convert.common.data_types import FloatTensorType\n",
    "from sklearn.model_selection import train_test_split\n",
    "from sklearn.metrics import accuracy_score\n",
    "from json import load, dump\n",
    "\n",
    "SEED=2022\n",
    "\n",
    "print(onnxmltools.__version__)"
   ]
  },
  {
   "cell_type": "code",
   "execution_count": 20,
   "metadata": {},
   "outputs": [],
   "source": [
    "# Read the dataset\n",
    "data = pd.read_csv('../data/lending-club.csv')\n",
    "y_all = data['loan_approval']\n",
    "x_all = data.iloc[:, 0: data.shape[1] - 1]\n",
    "\n",
    "# One-hot encode the categorical columns\n",
    "x_all = pd.get_dummies(x_all, prefix_sep='-')\n",
    "\n",
    "# Train test split (6:4)\n",
    "x_train, x_test, y_train, y_test = train_test_split(\n",
    "    x_all, y_all, test_size=0.4, random_state=SEED\n",
    ")\n",
    "\n",
    "# Convert data frames to numpy arrays\n",
    "feature_names = x_all.columns\n",
    "x_train_matrix = x_train.to_numpy()\n",
    "x_test_matrix = x_test.to_numpy()\n",
    "y_train_array = y_train.to_numpy()\n",
    "y_test_array = y_test.to_numpy()\n",
    "\n",
    "# Create lightgbm dataset\n",
    "d_train = xgboost.DMatrix(x_train, label=y_train)\n",
    "d_test = xgboost.DMatrix(x_test, label=y_test)\n"
   ]
  },
  {
   "cell_type": "code",
   "execution_count": 21,
   "metadata": {},
   "outputs": [
    {
     "name": "stdout",
     "output_type": "stream",
     "text": [
      "[0]\ttest-logloss:0.68926\n",
      "[100]\ttest-logloss:0.50882\n",
      "[200]\ttest-logloss:0.47498\n",
      "[300]\ttest-logloss:0.47017\n",
      "[326]\ttest-logloss:0.47071\n"
     ]
    }
   ],
   "source": [
    "params = {\n",
    "    \"eta\": 0.01,\n",
    "    \"objective\": \"binary:logistic\",\n",
    "    # Randomly sample training data in each boosting iteration to avoid overfitting\n",
    "    \"subsample\": 0.5,\n",
    "    # Initial prediction: average of the training labels\n",
    "    \"eval_metric\": \"logloss\",\n",
    "}\n",
    "\n",
    "model = xgboost.train(\n",
    "    params,\n",
    "    d_train,\n",
    "    5000,\n",
    "    evals=[(d_test, \"test\")],\n",
    "    verbose_eval=100,\n",
    "    early_stopping_rounds=20,\n",
    ")"
   ]
  },
  {
   "cell_type": "code",
   "execution_count": 22,
   "metadata": {},
   "outputs": [
    {
     "name": "stdout",
     "output_type": "stream",
     "text": [
      "Train accuracy: 0.8483, Test accuracy: 0.7955\n"
     ]
    }
   ],
   "source": [
    "y_pred = model.predict(d_train)\n",
    "y_pred_label = [1 if y >= 0.5 else 0 for y in y_pred]\n",
    "train_acc = accuracy_score(y_train, y_pred_label)\n",
    "\n",
    "y_pred = model.predict(d_test)\n",
    "y_pred_label = [1 if y >= 0.5 else 0 for y in y_pred]\n",
    "test_acc = accuracy_score(y_test, y_pred_label)\n",
    "\n",
    "print(f'Train accuracy: {train_acc:.4}, Test accuracy: {test_acc:.4}')"
   ]
  },
  {
   "cell_type": "markdown",
   "metadata": {},
   "source": [
    "### Export the Model as ONNX\n",
    "\n",
    "To use this model in Rust and the web, we export it as an ONNX model."
   ]
  },
  {
   "cell_type": "code",
   "execution_count": 28,
   "metadata": {},
   "outputs": [],
   "source": [
    "temp_model = model.copy()\n",
    "\n",
    "# Need to convert real feature names to f0, f1, f2... for ONNX\n",
    "feature_name_map = {}\n",
    "new_feature_names = []\n",
    "for i in range(len(temp_model.feature_names)):\n",
    "    feature_name_map[f'f{i}'] = temp_model.feature_names[i]\n",
    "    new_feature_names.append(f'f{i}')\n",
    "\n",
    "temp_model.feature_names = new_feature_names"
   ]
  },
  {
   "cell_type": "code",
   "execution_count": 29,
   "metadata": {},
   "outputs": [],
   "source": [
    "initial_types = [(\"float_input\", FloatTensorType([None, x_train.shape[1]]))]\n",
    "model_onnx = convert_xgboost(temp_model, initial_types=initial_types)"
   ]
  },
  {
   "cell_type": "code",
   "execution_count": 30,
   "metadata": {},
   "outputs": [],
   "source": [
    "# # Save the ONNX model\n",
    "# with open('./lending-club-xgboost.onnx', 'wb') as fp:\n",
    "#     fp.write(model_onnx.SerializeToString())"
   ]
  },
  {
   "cell_type": "markdown",
   "metadata": {},
   "source": [
    "### ONNX Model Inference\n",
    "\n",
    "Model inference using the saved ONNX model.\n"
   ]
  },
  {
   "cell_type": "code",
   "execution_count": 17,
   "metadata": {},
   "outputs": [],
   "source": [
    "session = rt.InferenceSession('./lending-club-xgboost.onnx')\n",
    "y_pred_onnx = session.run(None, {'float_input': x_test.astype(np.float32).to_numpy()})"
   ]
  },
  {
   "cell_type": "code",
   "execution_count": 18,
   "metadata": {},
   "outputs": [
    {
     "name": "stdout",
     "output_type": "stream",
     "text": [
      "ONNX Test accuracy: 0.795\n"
     ]
    }
   ],
   "source": [
    "test_acc = accuracy_score(y_test, y_pred_onnx[0])\n",
    "print(f'ONNX Test accuracy: {test_acc:.4}')"
   ]
  },
  {
   "attachments": {},
   "cell_type": "markdown",
   "metadata": {},
   "source": [
    "### Export to JSON Data"
   ]
  },
  {
   "cell_type": "code",
   "execution_count": 38,
   "metadata": {},
   "outputs": [],
   "source": [
    "rng = np.random.RandomState(SEED)\n",
    "random_indexes = rng.choice(x_train_matrix.shape[0], 300)\n",
    "random_x_train = x_train_matrix[random_indexes].astype(float).round(4).tolist()\n",
    "random_y_train = y_train_array[random_indexes].astype(float).round(4).tolist()\n",
    "\n",
    "random_indexes = rng.choice(x_test_matrix.shape[0], 300)\n",
    "random_x_test = x_test_matrix[random_indexes].astype(float).round(4).tolist()\n",
    "random_y_test = y_test_array[random_indexes].astype(float).round(4).tolist()"
   ]
  },
  {
   "cell_type": "code",
   "execution_count": 58,
   "metadata": {},
   "outputs": [],
   "source": [
    "# Users can provide a partial dictionary to add descriptions for some features/levels\n",
    "feature_info = {\n",
    "    'loan_amnt': ['Loan Amount', 'Amount of applied loan ($)'],\n",
    "    'term': ['Payment Period', 'The period of time to pay off the loan (month)'],\n",
    "    'emp_length': ['Employment Length', 'Length of your current employment (years)'],\n",
    "    'home_ownership': ['Home Ownership', 'Current home ownership status'],\n",
    "    'annual_inc': ['Annual Income', 'Annual income ($)'],\n",
    "    'verification_status': ['Verification Status', 'Status of income verification'],\n",
    "    'purpose': ['Loan Purpose', 'Purpose for the applied loan'],\n",
    "    'dti': ['Debt to Income Ratio', 'Monthly debt payments divided by the gross monthly income (%)'],\n",
    "    'delinq_2yrs': ['Number of Past Due', 'The number of times of 30+ days past due on a payment in the past 2 years'],\n",
    "    'earliest_cr_line': ['Credit History Length', 'Years of credit history'],\n",
    "    'inq_last_6mths': ['Number of Credit Inquiries', 'Number of credit inquiries in the last 6 months'],\n",
    "    'open_acc': ['Number of Open Accounts', 'The number of open credit lines currently in the credit file'],\n",
    "    'pub_rec': ['Number of Derogatory Records', 'Number of derogatory public records (e.g., crime records)'],\n",
    "    'revol_bal': ['Revolving Balance', 'The unpaid balance amount, if the balance on revolving credit account is not paid in full ($)'],\n",
    "    'revol_util': ['Credit Utilization', 'The amount of credit used relative to all available revolving credit (%)'],\n",
    "    'total_acc': ['Number of Accounts', 'The total number of credit lines currently in the credit file'],\n",
    "    'application_type': ['Application Type', 'Whether the loan is an individual application or a joint application with two co-borrowers'],\n",
    "    'mort_acc': ['Number of Mortgages', 'Number of mortgage accounts'],\n",
    "    'pub_rec_bankruptcies': ['Number of Bankruptcies', 'Number of public record bankruptcies'],\n",
    "    'fico_score': ['FICO Score', 'Current FICO score (credit score)'],\n",
    "}\n",
    "\n",
    "feature_level_info = {\n",
    "    'term': {\n",
    "        '36 months': ['36 months', ''],\n",
    "        '60 months': ['60 months', ''],\n",
    "    },\n",
    "    'home_ownership': {\n",
    "        'MORTGAGE': ['Mortgage', ''],\n",
    "        'OTHER': ['Other', ''],\n",
    "        'OWN': ['Own', ''],\n",
    "        'RENT': ['Rent', '']\n",
    "    },\n",
    "    'application_type': {\n",
    "        'Individual': ['Individual Application', ''],\n",
    "        'Joint App': ['Joint Applciation', '']\n",
    "    },\n",
    "    'verification_status': {\n",
    "        'Not Verified': ['Not Verified', ''],\n",
    "        'Source Verified': ['Source Verified', ''],\n",
    "        'Verified': ['Verified', ''],\n",
    "    },\n",
    "    'pub_rec': {\n",
    "        '0': ['0 time', ''],\n",
    "        '1': ['1 time', ''],\n",
    "        '2': ['2 times', ''],\n",
    "        '2+': ['More than 2 times', '']\n",
    "    },\n",
    "    'pub_rec_bankruptcies': {\n",
    "        '0': ['0 time', ''],\n",
    "        '1': ['1 time', ''],\n",
    "        '2': ['2 times', ''],\n",
    "        '2+': ['More than 2 times', ''],\n",
    "        'missing': ['Missing', ''],\n",
    "    }\n",
    "}"
   ]
  },
  {
   "cell_type": "code",
   "execution_count": 59,
   "metadata": {},
   "outputs": [],
   "source": [
    "feature_types = []\n",
    "for name in feature_names:\n",
    "    if '-' in name:\n",
    "        feature_types.append('cat')\n",
    "    else:\n",
    "        feature_types.append('cont')\n",
    "\n",
    "json_data = {\n",
    "    'xTrain': random_x_train,\n",
    "    'yTrain': random_y_train,\n",
    "    'xTest': random_x_test,\n",
    "    'yTest': random_y_test,\n",
    "    'featureNames': feature_names.tolist(),\n",
    "    'featureTypes': feature_types,\n",
    "    'featureInfo': feature_info,\n",
    "    'featureLevelInfo': feature_level_info\n",
    "}\n"
   ]
  },
  {
   "cell_type": "code",
   "execution_count": 60,
   "metadata": {},
   "outputs": [],
   "source": [
    "dump(json_data, open('../demo/public/data/lending-club.json', 'w'))"
   ]
  },
  {
   "cell_type": "code",
   "execution_count": null,
   "metadata": {},
   "outputs": [],
   "source": []
  }
 ],
 "metadata": {
  "kernelspec": {
   "display_name": "gam",
   "language": "python",
   "name": "python3"
  },
  "language_info": {
   "codemirror_mode": {
    "name": "ipython",
    "version": 3
   },
   "file_extension": ".py",
   "mimetype": "text/x-python",
   "name": "python",
   "nbconvert_exporter": "python",
   "pygments_lexer": "ipython3",
   "version": "3.9.12"
  },
  "orig_nbformat": 4,
  "vscode": {
   "interpreter": {
    "hash": "b5626e0214fbab356492e241c64e374e895356c36c2df27bd9257fec2bfaf925"
   }
  }
 },
 "nbformat": 4,
 "nbformat_minor": 2
}
